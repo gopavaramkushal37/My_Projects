{
 "cells": [
  {
   "cell_type": "markdown",
   "metadata": {},
   "source": [
    "# <font color=\"hotpink\">Eco_Fertilization</font>"
   ]
  },
  {
   "cell_type": "markdown",
   "metadata": {},
   "source": [
    "## BestTimeToFertilize Module\n",
    "* Using <a href=\"https://www.weatherbit.io/api/weather-forecast-16-day\">Weatherbit | 16 Day Forecast</a>\n",
    "* Acessing 7 days of forecast data in json format.\n",
    "* Data requests\n",
    "    1. temperature (Celsius)\n",
    "    2. humidity (relative humidity in %)\n",
    "    3. rainfall (mm)\n",
    "* API call format: ```https://api.weatherbit.io/v2.0/forecast/daily?city=Raleigh,NC&key=API_KEY&days=5```\n",
    "* Effective Rainfall: https://www.fao.org/3/S2022E/s2022e03.htm\n",
    "* Rates of rainfall:\n",
    "    * Drizzle, very small droplets.\n",
    "    * Slight (fine) drizzle: Detectable as droplets only on the face, car windscreens and windows.\n",
    "    * Moderate drizzle: Windows and other surfaces stream with water.\n",
    "    * Heavy (thick) drizzle: Impairs visibility and is measurable in a raingauge, rates up to 1 mm per hour.\n",
    "    * Rain, drops of appreciable size and may be described as small to large drops. It is possible to have rain drops within drizzle!\n",
    "    * Slight rain: Less than 0.5 mm per hour.\n",
    "    * Moderate rain: Greater than 0.5 mm per hour, but less than 4.0 mm per hour.\n",
    "    * Heavy rain: Greater than 4 mm per hour, but less than 8 mm per hour.\n",
    "    * Very heavy rain: Greater than 8 mm per hour.\n",
    "    * Slight shower: Less than 2 mm per hour.\n",
    "    * Moderate shower: Greater than 2 mm, but less than 10 mm per hour.\n",
    "    * Heavy shower: Greater than 10 mm per hour, but less than 50 mm per hour.\n",
    "    * Violent shower: Greater than 50 mm per hour.\n",
    "* Weather API Codes/Icons: https://www.weatherbit.io/api/codes \n"
   ]
  },
  {
   "cell_type": "markdown",
   "metadata": {},
   "source": [
    "### Fertilization \n",
    "* Heavy and prolonged rain can wash away recently applied fertilizer. It is also important that the water within the first 24 hours (upto 48 hours) be evenly distributed.\n",
    "* Rainfall of greater than ½ inch (12.7 mm) puts your fertilizer at risk. \n",
    "* Urea converts to ammonium ion within 5 to six days by urease enzyme and it takes another 5 to. Six days to convert it in nitrate by soil bacteria . After this plant roots can absorb it properly but all these are also affected by temp, moisture and soil texture."
   ]
  },
  {
   "cell_type": "markdown",
   "metadata": {},
   "source": [
    "### Version Info\n",
    "* Python version: 3.8.10\n",
    "* requests module version: 2.27.1\n",
    "* json module version: 2.0.9"
   ]
  },
  {
   "cell_type": "code",
   "execution_count": 1,
   "metadata": {},
   "outputs": [],
   "source": [
    "import requests as rq\n",
    "import json as js\n",
    "from time import sleep\n",
    "\n",
    "# !python3 --version\n",
    "# print(\"requests\", rq.__version__)\n",
    "# print(\"json\", js.__version__)"
   ]
  },
  {
   "cell_type": "code",
   "execution_count": 2,
   "metadata": {},
   "outputs": [],
   "source": [
    "class BestTimeToFertilize:\n",
    "    __BASE_URL = \"https://api.weatherbit.io/v2.0/forecast/daily?\"\n",
    "    __API_KEY = \"480589e42e7c4352abe4fe25bd398ab0\"\n",
    "    \n",
    "    \n",
    "    def __init__(self, city_name = 'Bangalore', state_name = 'Karnataka', days = 7):\n",
    "        self.city_name = '+'.join(city_name.lower().strip().split())\n",
    "        self.state_name = '+'.join(state_name.lower().strip().split())\n",
    "        self.country_name = 'IN'\n",
    "        self.days = days\n",
    "        self.response = None\n",
    "        self.response_code = None\n",
    "        self.weather_data = list()\n",
    "        \n",
    "    def api_caller(self):\n",
    "        try:\n",
    "            complete_url = \"{0}city={1}&state={2}&country={3}&key={4}&days={5}\".format(self.__BASE_URL, self.city_name, self.state_name, self.country_name, self.__API_KEY, self.days)\n",
    "            print(complete_url)\n",
    "            #while self.response == None:\n",
    "            self.response = rq.get(complete_url)\n",
    "            sleep(5)\n",
    "            self.response_code = self.response.status_code\n",
    "            return self.response_code\n",
    "        except Exception as msg:\n",
    "            print(\"api_caller():\", msg)\n",
    "            return -1\n",
    "        \n",
    "    \n",
    "    def is_api_call_success(self):\n",
    "        if self.response_code == 200:\n",
    "            return True\n",
    "        elif self.response_code == 204:\n",
    "            print('Content Not available, error code 204')\n",
    "        return False\n",
    "    \n",
    "\n",
    "    def json_file_bulider(self):\n",
    "        try:\n",
    "            json_obj = self.response.json()\n",
    "            with open('weather_data.json', 'w') as file:\n",
    "                js.dump(json_obj, file, indent = 1, sort_keys = True)\n",
    "            print(\"weather_data.json file build successfully\")\n",
    "        except Exception as msg:\n",
    "            print(\"json_bulider():\", msg)\n",
    "            \n",
    "    \n",
    "    def best_time_fertilize(self):\n",
    "        json_obj = self.response.json()\n",
    "        \n",
    "        print(\"City:\", json_obj['city_name'], \"\\n\")\n",
    "\n",
    "        prolonged_precip = 0\n",
    "        prolonged_prob = 0\n",
    "        heavy_rain_2d = False\n",
    "        heavy_rain_chance_2d = 0\n",
    "        precip_2d = 0\n",
    "        precip_chance_2d = 0\n",
    "        \n",
    "        for i in range(self.days):\n",
    "            date = json_obj['data'][i]['datetime']\n",
    "            temp = json_obj['data'][i]['temp']\n",
    "            rh = json_obj['data'][i]['rh']\n",
    "            precip = json_obj['data'][i]['precip']\n",
    "            prob = json_obj['data'][i]['pop']\n",
    "            w_code = json_obj['data'][i]['weather']['code']\n",
    "            w_desc = json_obj['data'][i]['weather']['description']\n",
    "            i_code = json_obj['data'][i]['weather']['icon']\n",
    "            prolonged_precip += precip\n",
    "            prolonged_prob += prob\n",
    "\n",
    "            count_2d = 0\n",
    "            if i < 2:\n",
    "                precip_2d += precip\n",
    "                precip_chance_2d += prob\n",
    "                if w_code in [202, 233, 502, 521, 522]:\n",
    "                    heavy_rain_2d = True\n",
    "                    heavy_rain_chance_2d += prob\n",
    "                    count_2d += 1\n",
    "                    heavy_rain_chance_2d //= count_2d\n",
    "            \n",
    "            di = {\n",
    "                  \"Date\": str(date), \n",
    "                  \"Temperature\": str(temp), \n",
    "                  \"Relative Humidity\": str(rh), \n",
    "                  \"Rainfall\": str(precip), \n",
    "                  \"Probability of Precipitation\": str(prob),\n",
    "                  \"Weather code\": str(w_code),\n",
    "                  \"Weather Description\": str(w_desc),\n",
    "                  \"Icon code\": str(i_code)\n",
    "                 }\n",
    "            self.weather_data.append(di)\n",
    "            \n",
    "            print(\"Date:\", date)\n",
    "            print(\"Temperature:\", temp)\n",
    "            print(\"Relative Humidity:\", rh)\n",
    "            print(\"Rainfall:\", precip)\n",
    "            print(\"Probability of Precipitation:\", prob)\n",
    "            print(\"Weather code:\", w_code, \"->\", w_desc)\n",
    "            print()\n",
    "\n",
    "        prolonged_prob //= self.days\n",
    "        precip_chance_2d //= 2\n",
    "\n",
    "        print(\"-\"*80)\n",
    "        print(\"The amount of rain for 2 days, counting today:\", precip_2d)\n",
    "        print(\"Chances of rain for 2 days, counting today:\", precip_chance_2d)\n",
    "        print()\n",
    "\n",
    "        if heavy_rain_2d:\n",
    "            print(\"*\"*21, \"Warning !!!\", \"*\"*21)\n",
    "            print(\"Heavy Rain Chances:\", heavy_rain_chance_2d)\n",
    "            print(\"Heavy Rainfall puts your fertilizer at risk.\")\n",
    "            print(\"*\"*21, \"Warning !!!\", \"*\"*21)\n",
    "\n",
    "        print(\"Prolonged Precipitation:\", prolonged_precip)\n",
    "        print(\"Prolonged Precipitation Probability:\", prolonged_prob)\n",
    "        print()\n",
    "\n",
    "        if prolonged_precip > 12.7 and prolonged_prob >= 50:\n",
    "            print(\"*\"*21, \"Warning !!!\", \"*\"*21)\n",
    "            print(\"Prolonged Rainfall of greater than 12.7 mm puts your fertilizer at risk.\")\n",
    "            print(\"*\"*21, \"Warning !!!\", \"*\"*21)"
   ]
  },
  {
   "cell_type": "code",
   "execution_count": 26,
   "metadata": {},
   "outputs": [
    {
     "name": "stdout",
     "output_type": "stream",
     "text": [
      "https://api.weatherbit.io/v2.0/forecast/daily?city=ahmedabad&state=gujarat&country=IN&key=480589e42e7c4352abe4fe25bd398ab0&days=7\n",
      "200\n",
      "City: Ahmedabad \n",
      "\n",
      "Date: 2022-06-05\n",
      "Temperature: 38.6\n",
      "Relative Humidity: 17\n",
      "Rainfall: 0\n",
      "Probability of Precipitation: 0\n",
      "Weather code: 803 -> Broken clouds\n",
      "\n",
      "Date: 2022-06-06\n",
      "Temperature: 34.9\n",
      "Relative Humidity: 33\n",
      "Rainfall: 0\n",
      "Probability of Precipitation: 0\n",
      "Weather code: 801 -> Few clouds\n",
      "\n",
      "Date: 2022-06-07\n",
      "Temperature: 34.7\n",
      "Relative Humidity: 40\n",
      "Rainfall: 0\n",
      "Probability of Precipitation: 0\n",
      "Weather code: 800 -> Clear Sky\n",
      "\n",
      "Date: 2022-06-08\n",
      "Temperature: 34.5\n",
      "Relative Humidity: 45\n",
      "Rainfall: 0\n",
      "Probability of Precipitation: 0\n",
      "Weather code: 801 -> Few clouds\n",
      "\n",
      "Date: 2022-06-09\n",
      "Temperature: 34.4\n",
      "Relative Humidity: 46\n",
      "Rainfall: 0\n",
      "Probability of Precipitation: 0\n",
      "Weather code: 801 -> Few clouds\n",
      "\n",
      "Date: 2022-06-10\n",
      "Temperature: 32.6\n",
      "Relative Humidity: 52\n",
      "Rainfall: 0\n",
      "Probability of Precipitation: 0\n",
      "Weather code: 801 -> Few clouds\n",
      "\n",
      "Date: 2022-06-11\n",
      "Temperature: 33.8\n",
      "Relative Humidity: 47\n",
      "Rainfall: 0\n",
      "Probability of Precipitation: 0\n",
      "Weather code: 801 -> Few clouds\n",
      "\n",
      "--------------------------------------------------------------------------------\n",
      "The amount of rain for 2 days, counting today: 0\n",
      "Chances of rain for 2 days, counting today: 0\n",
      "\n",
      "Prolonged Precipitation: 0\n",
      "Prolonged Precipitation Probability: 0\n",
      "\n",
      "weather_data.json file build successfully\n"
     ]
    }
   ],
   "source": [
    "if __name__ == '__main__':\n",
    "    obj = BestTimeToFertilize('Ahmedabad', 'Gujarat')\n",
    "    print(obj.api_caller())\n",
    "    if obj.is_api_call_success():\n",
    "        obj.best_time_fertilize()\n",
    "        obj.json_file_bulider()\n",
    "#         print(obj.weather_data)"
   ]
  },
  {
   "cell_type": "markdown",
   "metadata": {},
   "source": [
    "## Predictive Module"
   ]
  },
  {
   "cell_type": "markdown",
   "metadata": {},
   "source": [
    "### Version Info\n",
    "* numpy 1.22.3\n",
    "* pandas 1.3.3"
   ]
  },
  {
   "cell_type": "code",
   "execution_count": 1,
   "metadata": {},
   "outputs": [],
   "source": [
    "import numpy as np # linear algebra\n",
    "import pandas as pd # data processing, CSV file I/O (e.g. pd.read_csv)\n",
    "import matplotlib.pyplot as plt # data visualization\n",
    "import warnings\n",
    "\n",
    "# enable the inline plotting, where the plots/graphs will be displayed just below the \n",
    "# cell where your plotting commands are written\n",
    "%matplotlib inline\n",
    "\n",
    "warnings.filterwarnings('ignore')\n",
    "\n",
    "# print(\"numpy\", np.__version__)\n",
    "# print(\"pandas\", pd.__version__)"
   ]
  },
  {
   "cell_type": "code",
   "execution_count": 4,
   "metadata": {},
   "outputs": [],
   "source": [
    "data = 'C:/Users/gopav/Downloads/Eco-fertilization-main/DataSet/Nutrient_recommendation.csv'\n",
    "df = pd.read_csv(data, header=None)"
   ]
  },
  {
   "cell_type": "code",
   "execution_count": 5,
   "metadata": {},
   "outputs": [
    {
     "data": {
      "text/plain": [
       "(2201, 7)"
      ]
     },
     "execution_count": 5,
     "metadata": {},
     "output_type": "execute_result"
    }
   ],
   "source": [
    "# view dimensions of dataset\n",
    "\n",
    "df.shape"
   ]
  },
  {
   "cell_type": "code",
   "execution_count": 6,
   "metadata": {},
   "outputs": [
    {
     "data": {
      "text/html": [
       "<div>\n",
       "<style scoped>\n",
       "    .dataframe tbody tr th:only-of-type {\n",
       "        vertical-align: middle;\n",
       "    }\n",
       "\n",
       "    .dataframe tbody tr th {\n",
       "        vertical-align: top;\n",
       "    }\n",
       "\n",
       "    .dataframe thead th {\n",
       "        text-align: right;\n",
       "    }\n",
       "</style>\n",
       "<table border=\"1\" class=\"dataframe\">\n",
       "  <thead>\n",
       "    <tr style=\"text-align: right;\">\n",
       "      <th></th>\n",
       "      <th>0</th>\n",
       "      <th>1</th>\n",
       "      <th>2</th>\n",
       "      <th>3</th>\n",
       "      <th>4</th>\n",
       "      <th>5</th>\n",
       "      <th>6</th>\n",
       "    </tr>\n",
       "  </thead>\n",
       "  <tbody>\n",
       "    <tr>\n",
       "      <th>0</th>\n",
       "      <td>Crop</td>\n",
       "      <td>Temperature</td>\n",
       "      <td>Humidity</td>\n",
       "      <td>Rainfall</td>\n",
       "      <td>Label_N</td>\n",
       "      <td>Label_P</td>\n",
       "      <td>Label_K</td>\n",
       "    </tr>\n",
       "    <tr>\n",
       "      <th>1</th>\n",
       "      <td>rice</td>\n",
       "      <td>20.87974371</td>\n",
       "      <td>82.00274423</td>\n",
       "      <td>202.9355362</td>\n",
       "      <td>90</td>\n",
       "      <td>42</td>\n",
       "      <td>43</td>\n",
       "    </tr>\n",
       "    <tr>\n",
       "      <th>2</th>\n",
       "      <td>rice</td>\n",
       "      <td>21.77046169</td>\n",
       "      <td>80.31964408</td>\n",
       "      <td>226.6555374</td>\n",
       "      <td>85</td>\n",
       "      <td>58</td>\n",
       "      <td>41</td>\n",
       "    </tr>\n",
       "    <tr>\n",
       "      <th>3</th>\n",
       "      <td>rice</td>\n",
       "      <td>23.00445915</td>\n",
       "      <td>82.3207629</td>\n",
       "      <td>263.9642476</td>\n",
       "      <td>60</td>\n",
       "      <td>55</td>\n",
       "      <td>44</td>\n",
       "    </tr>\n",
       "    <tr>\n",
       "      <th>4</th>\n",
       "      <td>rice</td>\n",
       "      <td>26.49109635</td>\n",
       "      <td>80.15836264</td>\n",
       "      <td>242.8640342</td>\n",
       "      <td>74</td>\n",
       "      <td>35</td>\n",
       "      <td>40</td>\n",
       "    </tr>\n",
       "  </tbody>\n",
       "</table>\n",
       "</div>"
      ],
      "text/plain": [
       "      0            1            2            3        4        5        6\n",
       "0  Crop  Temperature     Humidity     Rainfall  Label_N  Label_P  Label_K\n",
       "1  rice  20.87974371  82.00274423  202.9355362       90       42       43\n",
       "2  rice  21.77046169  80.31964408  226.6555374       85       58       41\n",
       "3  rice  23.00445915   82.3207629  263.9642476       60       55       44\n",
       "4  rice  26.49109635  80.15836264  242.8640342       74       35       40"
      ]
     },
     "execution_count": 6,
     "metadata": {},
     "output_type": "execute_result"
    }
   ],
   "source": [
    "# preview the dataset\n",
    "\n",
    "df.head()"
   ]
  },
  {
   "cell_type": "code",
   "execution_count": 7,
   "metadata": {},
   "outputs": [
    {
     "data": {
      "text/html": [
       "<div>\n",
       "<style scoped>\n",
       "    .dataframe tbody tr th:only-of-type {\n",
       "        vertical-align: middle;\n",
       "    }\n",
       "\n",
       "    .dataframe tbody tr th {\n",
       "        vertical-align: top;\n",
       "    }\n",
       "\n",
       "    .dataframe thead th {\n",
       "        text-align: right;\n",
       "    }\n",
       "</style>\n",
       "<table border=\"1\" class=\"dataframe\">\n",
       "  <thead>\n",
       "    <tr style=\"text-align: right;\">\n",
       "      <th></th>\n",
       "      <th>Crop</th>\n",
       "      <th>Temperature</th>\n",
       "      <th>Humidity</th>\n",
       "      <th>Rainfall</th>\n",
       "      <th>Label_N</th>\n",
       "      <th>Label_P</th>\n",
       "      <th>Label_K</th>\n",
       "    </tr>\n",
       "  </thead>\n",
       "  <tbody>\n",
       "    <tr>\n",
       "      <th>1</th>\n",
       "      <td>rice</td>\n",
       "      <td>20.87974371</td>\n",
       "      <td>82.00274423</td>\n",
       "      <td>202.9355362</td>\n",
       "      <td>90</td>\n",
       "      <td>42</td>\n",
       "      <td>43</td>\n",
       "    </tr>\n",
       "    <tr>\n",
       "      <th>2</th>\n",
       "      <td>rice</td>\n",
       "      <td>21.77046169</td>\n",
       "      <td>80.31964408</td>\n",
       "      <td>226.6555374</td>\n",
       "      <td>85</td>\n",
       "      <td>58</td>\n",
       "      <td>41</td>\n",
       "    </tr>\n",
       "    <tr>\n",
       "      <th>3</th>\n",
       "      <td>rice</td>\n",
       "      <td>23.00445915</td>\n",
       "      <td>82.3207629</td>\n",
       "      <td>263.9642476</td>\n",
       "      <td>60</td>\n",
       "      <td>55</td>\n",
       "      <td>44</td>\n",
       "    </tr>\n",
       "    <tr>\n",
       "      <th>4</th>\n",
       "      <td>rice</td>\n",
       "      <td>26.49109635</td>\n",
       "      <td>80.15836264</td>\n",
       "      <td>242.8640342</td>\n",
       "      <td>74</td>\n",
       "      <td>35</td>\n",
       "      <td>40</td>\n",
       "    </tr>\n",
       "    <tr>\n",
       "      <th>5</th>\n",
       "      <td>rice</td>\n",
       "      <td>20.13017482</td>\n",
       "      <td>81.60487287</td>\n",
       "      <td>262.7173405</td>\n",
       "      <td>78</td>\n",
       "      <td>42</td>\n",
       "      <td>42</td>\n",
       "    </tr>\n",
       "  </tbody>\n",
       "</table>\n",
       "</div>"
      ],
      "text/plain": [
       "   Crop  Temperature     Humidity     Rainfall Label_N Label_P Label_K\n",
       "1  rice  20.87974371  82.00274423  202.9355362      90      42      43\n",
       "2  rice  21.77046169  80.31964408  226.6555374      85      58      41\n",
       "3  rice  23.00445915   82.3207629  263.9642476      60      55      44\n",
       "4  rice  26.49109635  80.15836264  242.8640342      74      35      40\n",
       "5  rice  20.13017482  81.60487287  262.7173405      78      42      42"
      ]
     },
     "execution_count": 7,
     "metadata": {},
     "output_type": "execute_result"
    }
   ],
   "source": [
    "# Rename column names\n",
    "\n",
    "df.columns = ['Crop', 'Temperature', 'Humidity', 'Rainfall', 'Label_N', 'Label_P', 'Label_K']\n",
    "df.drop(df.index[:1], inplace=True)\n",
    "df.head()"
   ]
  },
  {
   "cell_type": "code",
   "execution_count": 8,
   "metadata": {},
   "outputs": [
    {
     "name": "stdout",
     "output_type": "stream",
     "text": [
      "<class 'pandas.core.frame.DataFrame'>\n",
      "Int64Index: 2200 entries, 1 to 2200\n",
      "Data columns (total 7 columns):\n",
      " #   Column       Non-Null Count  Dtype \n",
      "---  ------       --------------  ----- \n",
      " 0   Crop         2200 non-null   object\n",
      " 1   Temperature  2200 non-null   object\n",
      " 2   Humidity     2200 non-null   object\n",
      " 3   Rainfall     2200 non-null   object\n",
      " 4   Label_N      2200 non-null   object\n",
      " 5   Label_P      2200 non-null   object\n",
      " 6   Label_K      2200 non-null   object\n",
      "dtypes: object(7)\n",
      "memory usage: 137.5+ KB\n"
     ]
    }
   ],
   "source": [
    "# View summary of dataset\n",
    "\n",
    "df.info()"
   ]
  },
  {
   "cell_type": "code",
   "execution_count": 9,
   "metadata": {},
   "outputs": [
    {
     "data": {
      "text/plain": [
       "Crop           0\n",
       "Temperature    0\n",
       "Humidity       0\n",
       "Rainfall       0\n",
       "Label_N        0\n",
       "Label_P        0\n",
       "Label_K        0\n",
       "dtype: int64"
      ]
     },
     "execution_count": 9,
     "metadata": {},
     "output_type": "execute_result"
    }
   ],
   "source": [
    "# check missing values in variables\n",
    "\n",
    "df.isnull().sum()"
   ]
  },
  {
   "cell_type": "code",
   "execution_count": 10,
   "metadata": {},
   "outputs": [],
   "source": [
    "# Declare feature vector and target variable\n",
    "X = df.drop(['Label_N', 'Label_P', 'Label_K'], axis=1)\n",
    "\n",
    "y1 = df['Label_N']\n",
    "y2 = df['Label_P']\n",
    "y3 = df['Label_K']"
   ]
  },
  {
   "cell_type": "code",
   "execution_count": 11,
   "metadata": {},
   "outputs": [],
   "source": [
    "# split data into training and testing sets\n",
    "from sklearn.model_selection import train_test_split\n",
    "\n",
    "X_train, X_test, y_train, y_test = train_test_split(X, y1, test_size = 0.20, random_state = 42)"
   ]
  },
  {
   "cell_type": "code",
   "execution_count": 12,
   "metadata": {},
   "outputs": [
    {
     "data": {
      "text/plain": [
       "((1760, 4), (440, 4))"
      ]
     },
     "execution_count": 12,
     "metadata": {},
     "output_type": "execute_result"
    }
   ],
   "source": [
    "# check the shape of X_train and X_test\n",
    "\n",
    "X_train.shape, X_test.shape"
   ]
  },
  {
   "cell_type": "code",
   "execution_count": 13,
   "metadata": {},
   "outputs": [
    {
     "data": {
      "text/html": [
       "<div>\n",
       "<style scoped>\n",
       "    .dataframe tbody tr th:only-of-type {\n",
       "        vertical-align: middle;\n",
       "    }\n",
       "\n",
       "    .dataframe tbody tr th {\n",
       "        vertical-align: top;\n",
       "    }\n",
       "\n",
       "    .dataframe thead th {\n",
       "        text-align: right;\n",
       "    }\n",
       "</style>\n",
       "<table border=\"1\" class=\"dataframe\">\n",
       "  <thead>\n",
       "    <tr style=\"text-align: right;\">\n",
       "      <th></th>\n",
       "      <th>Crop</th>\n",
       "      <th>Temperature</th>\n",
       "      <th>Humidity</th>\n",
       "      <th>Rainfall</th>\n",
       "    </tr>\n",
       "  </thead>\n",
       "  <tbody>\n",
       "    <tr>\n",
       "      <th>1657</th>\n",
       "      <td>orange</td>\n",
       "      <td>16.39624284</td>\n",
       "      <td>92.18151927</td>\n",
       "      <td>102.944161</td>\n",
       "    </tr>\n",
       "    <tr>\n",
       "      <th>753</th>\n",
       "      <td>blackgram</td>\n",
       "      <td>27.54384835</td>\n",
       "      <td>69.3478631</td>\n",
       "      <td>69.40878198</td>\n",
       "    </tr>\n",
       "    <tr>\n",
       "      <th>893</th>\n",
       "      <td>lentil</td>\n",
       "      <td>27.52185591</td>\n",
       "      <td>63.13215259</td>\n",
       "      <td>45.20841071</td>\n",
       "    </tr>\n",
       "    <tr>\n",
       "      <th>1042</th>\n",
       "      <td>banana</td>\n",
       "      <td>25.36059237</td>\n",
       "      <td>75.03193255</td>\n",
       "      <td>116.5531455</td>\n",
       "    </tr>\n",
       "    <tr>\n",
       "      <th>1180</th>\n",
       "      <td>mango</td>\n",
       "      <td>35.47478322</td>\n",
       "      <td>47.97230503</td>\n",
       "      <td>97.79072474</td>\n",
       "    </tr>\n",
       "  </tbody>\n",
       "</table>\n",
       "</div>"
      ],
      "text/plain": [
       "           Crop  Temperature     Humidity     Rainfall\n",
       "1657     orange  16.39624284  92.18151927   102.944161\n",
       "753   blackgram  27.54384835   69.3478631  69.40878198\n",
       "893      lentil  27.52185591  63.13215259  45.20841071\n",
       "1042     banana  25.36059237  75.03193255  116.5531455\n",
       "1180      mango  35.47478322  47.97230503  97.79072474"
      ]
     },
     "execution_count": 13,
     "metadata": {},
     "output_type": "execute_result"
    }
   ],
   "source": [
    "X_train.head()"
   ]
  },
  {
   "cell_type": "code",
   "execution_count": 27,
   "metadata": {},
   "outputs": [
    {
     "name": "stdout",
     "output_type": "stream",
     "text": [
      "{'apple': 1, 'banana': 2, 'blackgram': 3, 'chickpea': 4, 'coconut': 5, 'coffee': 6, 'cotton': 7, 'grapes': 8, 'jute': 9, 'kidneybeans': 10, 'lentil': 11, 'maize': 12, 'mango': 13, 'mothbeans': 14, 'mungbean': 15, 'muskmelon': 16, 'orange': 17, 'papaya': 18, 'pigeonpeas': 19, 'pomegranate': 20, 'rice': 21, 'watermelon': 22, 'NA': nan}\n"
     ]
    }
   ],
   "source": [
    "# create mapping of crop(string) to int type\n",
    "mapping = dict()\n",
    "\n",
    "# writing the mapping in a file\n",
    "with open(\"C:/Users/gopav/Downloads/Eco-fertilization-main/Code/app/mapped_crops.csv\", \"w\") as fh:\n",
    "    fh.write(\"Crops,Key\\n\")\n",
    "    for i, crop in enumerate(np.unique(df[['Crop']]), 1):\n",
    "        mapping[crop] =  i\n",
    "        fh.write(\"%s,%d\\n\" % (crop, i))\n",
    "    mapping['NA'] = np.nan\n",
    "    fh.write(\"NA,nan\")\n",
    "    \n",
    "print(mapping)"
   ]
  },
  {
   "cell_type": "code",
   "execution_count": 15,
   "metadata": {},
   "outputs": [
    {
     "data": {
      "text/html": [
       "<div>\n",
       "<style scoped>\n",
       "    .dataframe tbody tr th:only-of-type {\n",
       "        vertical-align: middle;\n",
       "    }\n",
       "\n",
       "    .dataframe tbody tr th {\n",
       "        vertical-align: top;\n",
       "    }\n",
       "\n",
       "    .dataframe thead th {\n",
       "        text-align: right;\n",
       "    }\n",
       "</style>\n",
       "<table border=\"1\" class=\"dataframe\">\n",
       "  <thead>\n",
       "    <tr style=\"text-align: right;\">\n",
       "      <th></th>\n",
       "      <th>Crop</th>\n",
       "      <th>Temperature</th>\n",
       "      <th>Humidity</th>\n",
       "      <th>Rainfall</th>\n",
       "    </tr>\n",
       "  </thead>\n",
       "  <tbody>\n",
       "    <tr>\n",
       "      <th>1657</th>\n",
       "      <td>17</td>\n",
       "      <td>16.39624284</td>\n",
       "      <td>92.18151927</td>\n",
       "      <td>102.944161</td>\n",
       "    </tr>\n",
       "    <tr>\n",
       "      <th>753</th>\n",
       "      <td>3</td>\n",
       "      <td>27.54384835</td>\n",
       "      <td>69.3478631</td>\n",
       "      <td>69.40878198</td>\n",
       "    </tr>\n",
       "    <tr>\n",
       "      <th>893</th>\n",
       "      <td>11</td>\n",
       "      <td>27.52185591</td>\n",
       "      <td>63.13215259</td>\n",
       "      <td>45.20841071</td>\n",
       "    </tr>\n",
       "    <tr>\n",
       "      <th>1042</th>\n",
       "      <td>2</td>\n",
       "      <td>25.36059237</td>\n",
       "      <td>75.03193255</td>\n",
       "      <td>116.5531455</td>\n",
       "    </tr>\n",
       "    <tr>\n",
       "      <th>1180</th>\n",
       "      <td>13</td>\n",
       "      <td>35.47478322</td>\n",
       "      <td>47.97230503</td>\n",
       "      <td>97.79072474</td>\n",
       "    </tr>\n",
       "  </tbody>\n",
       "</table>\n",
       "</div>"
      ],
      "text/plain": [
       "      Crop  Temperature     Humidity     Rainfall\n",
       "1657    17  16.39624284  92.18151927   102.944161\n",
       "753      3  27.54384835   69.3478631  69.40878198\n",
       "893     11  27.52185591  63.13215259  45.20841071\n",
       "1042     2  25.36059237  75.03193255  116.5531455\n",
       "1180    13  35.47478322  47.97230503  97.79072474"
      ]
     },
     "execution_count": 15,
     "metadata": {},
     "output_type": "execute_result"
    }
   ],
   "source": [
    "# import category encoders\n",
    "import category_encoders as ce\n",
    "\n",
    "ordinal_cols_mapping = [{\"col\": \"Crop\", \"mapping\": mapping}, ]\n",
    "\n",
    "# encode categorical variables with ordinal encoding\n",
    "encoder = ce.OrdinalEncoder(cols = 'Crop', mapping = ordinal_cols_mapping, return_df = True)\n",
    "\n",
    "X_train = encoder.fit_transform(X_train)\n",
    "X_test = encoder.transform(X_test)\n",
    "X_train.head()"
   ]
  },
  {
   "cell_type": "code",
   "execution_count": 16,
   "metadata": {},
   "outputs": [],
   "source": [
    "from sklearn.ensemble import RandomForestRegressor\n",
    " \n",
    "# n_estimators = The number of trees in the forest.\n",
    "regressor = RandomForestRegressor(n_estimators = 50, random_state = 0)\n",
    " \n",
    "# fit the model\n",
    "regressor.fit(X_train, y_train)\n",
    "\n",
    "# Predict the Test set results\n",
    "y_pred = regressor.predict(X_test)"
   ]
  },
  {
   "cell_type": "code",
   "execution_count": 17,
   "metadata": {},
   "outputs": [
    {
     "data": {
      "text/plain": [
       "array([102.32,  97.98,  57.52,  42.88,  24.04,  16.74,  26.1 ,  20.04,\n",
       "        23.4 ,  21.34,  32.6 ,  17.02,  17.18,  70.88,  16.7 ,  11.7 ,\n",
       "        15.94,  80.82,  48.08,  95.26,  99.88,  55.2 ,  24.3 ,  52.42,\n",
       "        38.78,  81.68,  18.7 ,  23.8 ,  13.12,  90.62,  15.26,  22.58,\n",
       "        77.38,  11.58,  82.66,  40.72,  81.88,  49.58,  45.16,  20.42,\n",
       "        47.26,  16.38,  42.04,  73.68,  18.  ,  83.52,  22.04,  20.98,\n",
       "       103.5 ,  78.76,  39.46,  98.96,  27.1 ,  15.32, 105.72,  21.64,\n",
       "       121.54,  19.42, 100.44,  38.96, 103.94,  23.5 ,  27.14,  27.08,\n",
       "        44.14,  23.24,  28.46,  73.4 ,  97.72,  22.58, 104.76,  14.8 ,\n",
       "        82.16, 101.9 ,  32.44,  36.66, 101.7 , 105.1 ,  95.02,  11.54,\n",
       "       107.24,  37.56,  81.36,  23.92,  18.38,  23.06,  97.2 ,  11.92,\n",
       "        39.18,  11.34,  72.66,  26.66, 123.58,  37.3 ,  13.28,  15.8 ,\n",
       "        25.66, 105.96,  36.38,  23.04,  17.  ,  79.98,  10.34,  98.46,\n",
       "       100.14,  19.64,  97.84, 102.58,  24.7 ,  24.06,  98.92,  74.1 ,\n",
       "       116.46,  26.76,  12.98,  43.16,  80.66,  18.96,  11.64,  81.26,\n",
       "        22.72,  29.5 ,  44.6 ,  25.64,  34.4 ,  51.4 ,  25.46,  72.8 ,\n",
       "       102.82,  17.54, 101.32,  17.86,  10.58,  44.1 ,  23.26,  14.18,\n",
       "        18.26,  93.74,  97.14,  22.2 ,  17.72, 103.58,  18.78,  18.74,\n",
       "        22.16,  77.9 ,  17.7 ,  21.48,  14.06,  22.44,  22.42,  14.3 ,\n",
       "       104.3 ,  20.14,  19.7 ,  18.86,  15.04,  21.46,  70.86,  78.  ,\n",
       "        47.76,  14.02,  15.64, 122.12,  83.92,  23.86,  21.92,  18.54,\n",
       "       101.98,  23.2 ,  17.36,  36.22,  25.2 ,  35.62,  19.74,  84.1 ,\n",
       "        15.8 ,  23.2 ,  83.08,  73.96, 105.34, 101.62,  22.6 ,  77.16,\n",
       "        13.8 ,  29.66, 101.62,  15.04,  25.36,  31.62,  43.52,  21.48,\n",
       "        28.84,  20.16,  95.68,  23.44,  76.42,  19.06,  35.24,  44.28,\n",
       "        30.24,  25.38, 102.7 , 113.04,  79.36,  17.02,  29.62, 104.52,\n",
       "        77.22,  14.82,  78.98,  33.92,  35.36,  40.56,  20.04,  72.32,\n",
       "        13.7 ,  45.3 ,  98.9 ,  40.78,  18.82,  20.08,  19.14,  25.24,\n",
       "        39.4 ,  13.06,  43.14,  24.28,  42.82,  99.02,  23.04,  95.58,\n",
       "        95.08,  20.64,  20.52, 121.44,  22.  ,  14.98,  84.92,  95.44,\n",
       "        97.14,  55.2 ,  24.4 ,  76.3 ,  26.16, 101.96,  18.56,  28.02,\n",
       "        91.18,  19.44,  20.54, 114.84,  13.84,  88.46,  20.4 ,  21.  ,\n",
       "       102.1 ,  39.94, 114.36,  83.88,  19.  ,  95.24,  53.02,  14.56,\n",
       "        38.86,  79.76,  25.8 ,  27.54,  12.9 ,  73.8 ,  19.82,  18.64,\n",
       "        25.1 ,  79.44,  84.78,  17.86,  74.88,  42.04, 100.98,  85.8 ,\n",
       "        23.98,  89.88,  20.3 ,  94.06,  13.78, 104.52,  17.12,  49.16,\n",
       "        25.86,  39.22, 100.38,  94.6 ,  22.88,  40.88, 101.8 ,  23.48,\n",
       "        21.36,  25.68,  24.26,  54.54,  96.92,  22.38,  44.86,  38.32,\n",
       "        15.48,  36.4 ,  56.4 ,  23.  ,  22.16,  17.92,  42.58,  18.24,\n",
       "        42.28,  20.44,  98.98,  22.08,  23.54,  98.6 ,  84.46,  22.12,\n",
       "        96.52,  21.12,  86.98,  37.08,  32.8 , 108.1 ,  42.24,  24.26,\n",
       "        44.74,  16.6 ,  23.9 ,  11.62, 121.94,  25.78,  16.4 ,  20.56,\n",
       "       102.1 ,  76.62,  14.4 ,  20.66,  14.34,  19.32, 106.24, 109.26,\n",
       "       103.1 ,  20.72,  88.62,  22.68, 105.64,  79.7 ,  77.12,  79.66,\n",
       "        17.8 ,  21.7 ,  24.18,  11.54, 102.84,  42.28,  66.78,  92.22,\n",
       "        17.74,  23.44,  27.84, 125.36,  46.08,  19.3 , 118.64,  18.12,\n",
       "        13.22,  77.74,  36.46,  20.14,  95.34, 106.  ,  17.74,  35.22,\n",
       "        14.66,  23.28,  81.44,  24.7 ,  23.14,  17.6 ,  16.74,  86.34,\n",
       "        26.2 ,  22.86,  15.18,  45.62,  81.68,  28.28, 117.56,  97.  ,\n",
       "        14.68,  15.32,  20.32,  12.68,  96.2 ,  87.3 ,  19.1 ,  12.36,\n",
       "        96.08,  11.18,  95.18,  19.5 ,  74.98,  21.52, 111.28,  20.9 ,\n",
       "        46.66,  96.94,  16.6 ,  82.32,  37.02,  22.94,  26.28, 100.56,\n",
       "        20.32, 114.42,  53.96, 102.92,  26.84,  75.16,  24.94,  13.46,\n",
       "        21.74,  75.56,  74.4 ,  73.56,  17.44,  16.28,  24.16,  16.56,\n",
       "        86.78,  22.04,  41.32,  83.4 ,  67.16, 110.14, 114.18,  16.12])"
      ]
     },
     "execution_count": 17,
     "metadata": {},
     "output_type": "execute_result"
    }
   ],
   "source": [
    "y_pred"
   ]
  },
  {
   "cell_type": "markdown",
   "metadata": {},
   "source": [
    "### Calculating the loss after training\n",
    "* Let us now calculate the loss between the actual target values in the testing set and the values predicted by the model with the use of a cost function called the Root Mean Square Error (RMSE).\n",
    "<img src=\"https://miro.medium.com/max/460/0*rJwdJuCjM3fqfCIM.png\">\n",
    "* The RMSE of a model determines the absolute fit of the model to the data. In other words, it indicates how close the actual data points are to the model’s predicted values. A low value of RMSE indicates a better fit and is a good measure for determining the accuracy of the model’s predictions."
   ]
  },
  {
   "cell_type": "code",
   "execution_count": 18,
   "metadata": {
    "scrolled": true
   },
   "outputs": [
    {
     "name": "stdout",
     "output_type": "stream",
     "text": [
      "Mean Absolute Error: 10.544181818181817\n",
      "Mean Squared Error: 161.73470363636363\n",
      "Root Mean Squared Error: 12.717495965651556\n",
      "\n",
      "RMSE:  12.717\n"
     ]
    }
   ],
   "source": [
    "from sklearn import metrics\n",
    "\n",
    "print('Mean Absolute Error:', metrics.mean_absolute_error(y_test, y_pred))\n",
    "print('Mean Squared Error:', metrics.mean_squared_error(y_test, y_pred))\n",
    "print('Root Mean Squared Error:', np.sqrt(metrics.mean_squared_error(y_test, y_pred)))\n",
    " \n",
    "rmse = float(format(np.sqrt(metrics.mean_squared_error(y_test, y_pred)), '.3f'))\n",
    "print(\"\\nRMSE: \", rmse)"
   ]
  },
  {
   "cell_type": "code",
   "execution_count": 19,
   "metadata": {},
   "outputs": [],
   "source": [
    "# If set to -1, all CPUs are used, This parameter is used to specify how many concurrent \n",
    "# processes or threads should be used for routines that are parallelized\n",
    "\n",
    "model = RandomForestRegressor(n_jobs=-1)"
   ]
  },
  {
   "cell_type": "code",
   "execution_count": 20,
   "metadata": {
    "scrolled": true
   },
   "outputs": [
    {
     "data": {
      "text/plain": [
       "[<matplotlib.lines.Line2D at 0x1cfaa1d00d0>]"
      ]
     },
     "execution_count": 20,
     "metadata": {},
     "output_type": "execute_result"
    },
    {
     "data": {
      "image/png": "[encoded data removed]",
      "text/plain": [
       "<Figure size 432x288 with 1 Axes>"
      ]
     },
     "metadata": {
      "needs_background": "light"
     },
     "output_type": "display_data"
    }
   ],
   "source": [
    "estimators = np.arange(10, 200, 10)\n",
    "scores = []\n",
    "for n in estimators:\n",
    "    model.set_params(n_estimators=n)\n",
    "    model.fit(X_train, y_train)\n",
    "    scores.append(model.score(X_test, y_test))\n",
    "plt.title(\"Effect of n_estimators\")\n",
    "plt.xlabel(\"n_estimator\")\n",
    "plt.ylabel(\"score\")\n",
    "plt.plot(estimators, scores)"
   ]
  },
  {
   "cell_type": "markdown",
   "metadata": {},
   "source": [
    "### Accuracy\n",
    "* N: 0.871\n",
    "* P: 0.926\n",
    "* K: 0.995"
   ]
  },
  {
   "cell_type": "code",
   "execution_count": 21,
   "metadata": {},
   "outputs": [
    {
     "name": "stdout",
     "output_type": "stream",
     "text": [
      "Model accuracy: 0.871\n"
     ]
    }
   ],
   "source": [
    "scores_arr = [round(sc, 3) for sc in scores]\n",
    "unique, counts = np.unique(scores_arr, return_counts = True)\n",
    "\n",
    "max_count = max(counts)\n",
    "accuracy = -1\n",
    "for uni, count in zip(unique, counts):\n",
    "    # print(uni, count)\n",
    "    if count == max_count:\n",
    "        accuracy = uni\n",
    "\n",
    "print(\"Model accuracy: %.3f\" % (accuracy))"
   ]
  },
  {
   "cell_type": "markdown",
   "metadata": {},
   "source": [
    "# NPKEstimator"
   ]
  },
  {
   "cell_type": "code",
   "execution_count": 22,
   "metadata": {},
   "outputs": [],
   "source": [
    "import warnings\n",
    "import numpy as np \n",
    "import pandas as pd \n",
    "from sklearn import metrics\n",
    "import category_encoders as ce\n",
    "import matplotlib.pyplot as plt \n",
    "from sklearn.model_selection import train_test_split\n",
    "from sklearn.ensemble import RandomForestRegressor\n",
    "\n",
    "warnings.filterwarnings('ignore')"
   ]
  },
  {
   "cell_type": "code",
   "execution_count": 25,
   "metadata": {},
   "outputs": [],
   "source": [
    "class NPKEstimator:\n",
    "    def __init__(self, data = 'C:/Users/gopav/Downloads/Eco-fertilization-main/DataSet/Nutrient_recommendation.csv', ):\n",
    "        self.df = pd.read_csv(data, header=None)\n",
    "        self.X_train = None\n",
    "        self.X_test = None\n",
    "        self.y_train = None\n",
    "        self.y_test = None\n",
    "        \n",
    "    \n",
    "    def renameCol(self):\n",
    "        self.df.columns = ['Crop', 'Temperature', 'Humidity', 'Rainfall', 'Label_N', 'Label_P', 'Label_K']\n",
    "        self.df.drop(self.df.index[:1], inplace=True)\n",
    "    \n",
    "    \n",
    "    def cropMapper(self):\n",
    "        # create mapping of crop(string) to int type\n",
    "        mapping = dict()\n",
    "\n",
    "        with open(\"C:/Users/gopav/Downloads/Eco-fertilization-main/Code/app/mapped_crops.csv\", \"w\") as fh:\n",
    "            fh.write(\"Crops,Key\\n\")\n",
    "            for i, crop in enumerate(np.unique(self.df[['Crop']]), 1):\n",
    "                mapping[crop] =  i\n",
    "                fh.write(\"%s,%d\\n\" % (crop, i))\n",
    "            mapping['NA'] = np.nan\n",
    "            fh.write(\"NA,nan\")\n",
    "        # print(mapping)\n",
    "        \n",
    "        ordinal_cols_mapping = [{\"col\": \"Crop\", \"mapping\": mapping}, ]\n",
    "        encoder = ce.OrdinalEncoder(cols = 'Crop', mapping = ordinal_cols_mapping, return_df = True)\n",
    "        return mapping, encoder\n",
    "    \n",
    "    \n",
    "    def estimator(self, crop, temp, humidity, rainfall, y_label):\n",
    "        X = self.df.drop(['Label_N', 'Label_P', 'Label_K'], axis=1)\n",
    "        y = self.df[y_label]\n",
    "        \n",
    "        self.X_train, self.X_test, self.y_train, self.y_test = train_test_split(X, y, test_size = 0.20, random_state = 42)\n",
    "        \n",
    "        mapping, encoder = self.cropMapper()\n",
    "        self.X_train = encoder.fit_transform(self.X_train)\n",
    "        self.X_test = encoder.transform(self.X_test)\n",
    "        \n",
    "        regressor = RandomForestRegressor(n_estimators = 50, random_state = 0)\n",
    "        regressor.fit(self.X_train, self.y_train)\n",
    "        \n",
    "        # y_pred = regressor.predict(self.X_test)\n",
    "        query = [mapping[crop.strip().lower()], temp, humidity, rainfall]\n",
    "        y_pred = regressor.predict([query])\n",
    "        return y_pred\n",
    "    \n",
    "    \n",
    "    def accuracyCalculator(self):\n",
    "        model = RandomForestRegressor(n_jobs=-1)\n",
    "        estimators = np.arange(10, 200, 10)\n",
    "        scores = []\n",
    "        for n in estimators:\n",
    "            model.set_params(n_estimators=n)\n",
    "            model.fit(self.X_train, self.y_train)\n",
    "            scores.append(model.score(self.X_test, self.y_test))\n",
    "        \n",
    "        scores_arr = [round(sc, 3) for sc in scores]\n",
    "        unique, counts = np.unique(scores_arr, return_counts = True)\n",
    "\n",
    "        max_count = max(counts)\n",
    "        accuracy = -1\n",
    "        for uni, count in zip(unique, counts):\n",
    "            # print(uni, count)\n",
    "            if count == max_count:\n",
    "                accuracy = uni\n",
    "        # print(\"Model accuracy: %.2f\" % (accuracy))\n",
    "        return accuracy"
   ]
  },
  {
   "cell_type": "code",
   "execution_count": 34,
   "metadata": {},
   "outputs": [
    {
     "name": "stdout",
     "output_type": "stream",
     "text": [
      "Label_K : 40.46\n"
     ]
    }
   ],
   "source": [
    "if __name__ == '__main__':\n",
    "    obj = NPKEstimator()\n",
    "    obj.renameCol()\n",
    "    # 'Label_N', 'Label_P', 'Label_K'\n",
    "    # rice,21.94766735,80.97384195,213.3560921,67,59,41\n",
    "    crop, temp, humidity, rainfall, y_label = 'rice',21.94766735,80.97384195,213.3560921,'Label_K'\n",
    "    res = obj.estimator(crop, temp, humidity, rainfall, y_label)\n",
    "    print(y_label, \":\", res[0])"
   ]
  },
  {
   "cell_type": "code",
   "execution_count": null,
   "metadata": {},
   "outputs": [],
   "source": []
  }
 ],
 "metadata": {
  "kernelspec": {
   "display_name": "Python 3 (ipykernel)",
   "language": "python",
   "name": "python3"
  },
  "language_info": {
   "codemirror_mode": {
    "name": "ipython",
    "version": 3
   },
   "file_extension": ".py",
   "mimetype": "text/x-python",
   "name": "python",
   "nbconvert_exporter": "python",
   "pygments_lexer": "ipython3",
   "version": "3.9.7"
  }
 },
 "nbformat": 4,
 "nbformat_minor": 4
}
